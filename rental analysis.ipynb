{
 "cells": [
  {
   "cell_type": "markdown",
   "metadata": {},
   "source": [
    "# Property Rentals Dataset\n",
    "___\n",
    "This notebook demonstrates ploting housing data on a interactive map."
   ]
  },
  {
   "cell_type": "markdown",
   "metadata": {},
   "source": [
    "# IMPORTS & FUNCTIONS"
   ]
  },
  {
   "cell_type": "code",
   "execution_count": 1,
   "metadata": {
    "ExecuteTime": {
     "end_time": "2021-10-11T09:31:24.478823Z",
     "start_time": "2021-10-11T09:31:20.690804Z"
    }
   },
   "outputs": [],
   "source": [
    "import pandas as pd\n",
    "import re\n",
    "import missingno\n",
    "import plotly.express as px"
   ]
  },
  {
   "cell_type": "code",
   "execution_count": 2,
   "metadata": {
    "ExecuteTime": {
     "end_time": "2021-10-11T09:31:24.494817Z",
     "start_time": "2021-10-11T09:31:24.480834Z"
    }
   },
   "outputs": [],
   "source": [
    "def describe_dataframe(df: pd.DataFrame()) -> pd.DataFrame():\n",
    "    \"\"\"Statistical description of the pandas.DataFrame.\"\"\"\n",
    "    left = df.describe(include='all').round(2).T\n",
    "    right = pd.DataFrame(df.dtypes)\n",
    "    right.columns = ['dtype']\n",
    "    ret_df = pd.merge(left=left,\n",
    "                      right=right,\n",
    "                      left_index=True,\n",
    "                      right_index=True)\n",
    "    na_df = pd.DataFrame(df.isna().sum())\n",
    "    na_df.columns = ['nulls']\n",
    "    ret_df = pd.merge(left=ret_df,\n",
    "                      right=na_df,\n",
    "                      left_index=True,\n",
    "                      right_index=True)\n",
    "    ret_df.fillna('', inplace=True)\n",
    "    return ret_df"
   ]
  },
  {
   "cell_type": "code",
   "execution_count": 3,
   "metadata": {
    "ExecuteTime": {
     "end_time": "2021-10-11T09:31:24.524814Z",
     "start_time": "2021-10-11T09:31:24.496819Z"
    }
   },
   "outputs": [],
   "source": [
    "# notebook styling packages\n",
    "from jupyterthemes import jtplot\n",
    "jtplot.style(theme='monokai', context='notebook', ticks='True', grid='False')\n",
    "## to reset to default theme\n",
    "# jtplot.reset()"
   ]
  },
  {
   "cell_type": "markdown",
   "metadata": {},
   "source": [
    "# OBTAIN\n",
    "___\n",
    "The data set has the following columns:\n",
    "\n",
    "\n",
    "|Column| Name |Details|\n",
    "|---|---|---|\n",
    "|id| Numeric| the unique identification number of the property|\n",
    "|latitude| Numeric| the latitude of the property|\n",
    "|longitude| Numeric| the longitude of the property|\n",
    "|property_type| Character| the type of property (e.g., apartment, house, etc)|\n",
    "|room_type| Character| the type of room (e.g., private room, entire home, etc)|\n",
    "|bathrooms| Numeric| the number of bathrooms|\n",
    "|bedrooms| Numeric| the number of bedrooms|\n",
    "|minimum_nights| Numeric| the minimum number of nights someone can book|\n",
    "|price| Character| the dollars per night charged|\n"
   ]
  },
  {
   "cell_type": "markdown",
   "metadata": {},
   "source": [
    "## Loading data"
   ]
  },
  {
   "cell_type": "code",
   "execution_count": 4,
   "metadata": {
    "ExecuteTime": {
     "end_time": "2021-10-11T09:31:24.572823Z",
     "start_time": "2021-10-11T09:31:24.526824Z"
    }
   },
   "outputs": [
    {
     "data": {
      "text/html": [
       "<div>\n",
       "<style scoped>\n",
       "    .dataframe tbody tr th:only-of-type {\n",
       "        vertical-align: middle;\n",
       "    }\n",
       "\n",
       "    .dataframe tbody tr th {\n",
       "        vertical-align: top;\n",
       "    }\n",
       "\n",
       "    .dataframe thead th {\n",
       "        text-align: right;\n",
       "    }\n",
       "</style>\n",
       "<table border=\"1\" class=\"dataframe\">\n",
       "  <thead>\n",
       "    <tr style=\"text-align: right;\">\n",
       "      <th></th>\n",
       "      <th>id</th>\n",
       "      <th>latitude</th>\n",
       "      <th>longitude</th>\n",
       "      <th>property_type</th>\n",
       "      <th>room_type</th>\n",
       "      <th>bathrooms</th>\n",
       "      <th>bedrooms</th>\n",
       "      <th>minimum_nights</th>\n",
       "      <th>price</th>\n",
       "    </tr>\n",
       "  </thead>\n",
       "  <tbody>\n",
       "    <tr>\n",
       "      <th>6248</th>\n",
       "      <td>32019366</td>\n",
       "      <td>37.76240</td>\n",
       "      <td>-122.43786</td>\n",
       "      <td>Apartment</td>\n",
       "      <td>Entire home/apt</td>\n",
       "      <td>1.0</td>\n",
       "      <td>1.0</td>\n",
       "      <td>30</td>\n",
       "      <td>$138.00</td>\n",
       "    </tr>\n",
       "    <tr>\n",
       "      <th>3440</th>\n",
       "      <td>18492603</td>\n",
       "      <td>37.74830</td>\n",
       "      <td>-122.44546</td>\n",
       "      <td>Apartment</td>\n",
       "      <td>Entire home/apt</td>\n",
       "      <td>1.5</td>\n",
       "      <td>2.0</td>\n",
       "      <td>30</td>\n",
       "      <td>$147.00</td>\n",
       "    </tr>\n",
       "    <tr>\n",
       "      <th>270</th>\n",
       "      <td>435389</td>\n",
       "      <td>37.79418</td>\n",
       "      <td>-122.40582</td>\n",
       "      <td>House</td>\n",
       "      <td>Shared room</td>\n",
       "      <td>2.5</td>\n",
       "      <td>1.0</td>\n",
       "      <td>30</td>\n",
       "      <td>$30.00</td>\n",
       "    </tr>\n",
       "    <tr>\n",
       "      <th>764</th>\n",
       "      <td>1655446</td>\n",
       "      <td>37.75292</td>\n",
       "      <td>-122.42320</td>\n",
       "      <td>House</td>\n",
       "      <td>Private room</td>\n",
       "      <td>2.5</td>\n",
       "      <td>4.0</td>\n",
       "      <td>4</td>\n",
       "      <td>$539.00</td>\n",
       "    </tr>\n",
       "    <tr>\n",
       "      <th>2187</th>\n",
       "      <td>10126146</td>\n",
       "      <td>37.79948</td>\n",
       "      <td>-122.44508</td>\n",
       "      <td>Townhouse</td>\n",
       "      <td>Entire home/apt</td>\n",
       "      <td>1.0</td>\n",
       "      <td>1.0</td>\n",
       "      <td>30</td>\n",
       "      <td>$195.00</td>\n",
       "    </tr>\n",
       "    <tr>\n",
       "      <th>6457</th>\n",
       "      <td>32702220</td>\n",
       "      <td>37.78632</td>\n",
       "      <td>-122.40825</td>\n",
       "      <td>Hotel</td>\n",
       "      <td>Hotel room</td>\n",
       "      <td>1.0</td>\n",
       "      <td>1.0</td>\n",
       "      <td>1</td>\n",
       "      <td>$100.00</td>\n",
       "    </tr>\n",
       "    <tr>\n",
       "      <th>302</th>\n",
       "      <td>491874</td>\n",
       "      <td>37.77144</td>\n",
       "      <td>-122.43470</td>\n",
       "      <td>Condominium</td>\n",
       "      <td>Private room</td>\n",
       "      <td>1.0</td>\n",
       "      <td>1.0</td>\n",
       "      <td>3</td>\n",
       "      <td>$130.00</td>\n",
       "    </tr>\n",
       "    <tr>\n",
       "      <th>6694</th>\n",
       "      <td>33493552</td>\n",
       "      <td>37.77676</td>\n",
       "      <td>-122.44059</td>\n",
       "      <td>Apartment</td>\n",
       "      <td>Entire home/apt</td>\n",
       "      <td>1.5</td>\n",
       "      <td>4.0</td>\n",
       "      <td>2</td>\n",
       "      <td>$248.00</td>\n",
       "    </tr>\n",
       "    <tr>\n",
       "      <th>4529</th>\n",
       "      <td>23582186</td>\n",
       "      <td>37.78428</td>\n",
       "      <td>-122.41053</td>\n",
       "      <td>Apartment</td>\n",
       "      <td>Entire home/apt</td>\n",
       "      <td>1.0</td>\n",
       "      <td>0.0</td>\n",
       "      <td>30</td>\n",
       "      <td>$77.00</td>\n",
       "    </tr>\n",
       "    <tr>\n",
       "      <th>5834</th>\n",
       "      <td>30212338</td>\n",
       "      <td>37.74338</td>\n",
       "      <td>-122.48157</td>\n",
       "      <td>House</td>\n",
       "      <td>Private room</td>\n",
       "      <td>1.0</td>\n",
       "      <td>1.0</td>\n",
       "      <td>30</td>\n",
       "      <td>$65.00</td>\n",
       "    </tr>\n",
       "  </tbody>\n",
       "</table>\n",
       "</div>"
      ],
      "text/plain": [
       "            id  latitude  longitude property_type        room_type  bathrooms  \\\n",
       "6248  32019366  37.76240 -122.43786     Apartment  Entire home/apt        1.0   \n",
       "3440  18492603  37.74830 -122.44546     Apartment  Entire home/apt        1.5   \n",
       "270     435389  37.79418 -122.40582         House      Shared room        2.5   \n",
       "764    1655446  37.75292 -122.42320         House     Private room        2.5   \n",
       "2187  10126146  37.79948 -122.44508     Townhouse  Entire home/apt        1.0   \n",
       "6457  32702220  37.78632 -122.40825         Hotel       Hotel room        1.0   \n",
       "302     491874  37.77144 -122.43470   Condominium     Private room        1.0   \n",
       "6694  33493552  37.77676 -122.44059     Apartment  Entire home/apt        1.5   \n",
       "4529  23582186  37.78428 -122.41053     Apartment  Entire home/apt        1.0   \n",
       "5834  30212338  37.74338 -122.48157         House     Private room        1.0   \n",
       "\n",
       "      bedrooms  minimum_nights     price  \n",
       "6248       1.0              30  $138.00   \n",
       "3440       2.0              30  $147.00   \n",
       "270        1.0              30   $30.00   \n",
       "764        4.0               4  $539.00   \n",
       "2187       1.0              30  $195.00   \n",
       "6457       1.0               1  $100.00   \n",
       "302        1.0               3  $130.00   \n",
       "6694       4.0               2  $248.00   \n",
       "4529       0.0              30   $77.00   \n",
       "5834       1.0              30   $65.00   "
      ]
     },
     "execution_count": 4,
     "metadata": {},
     "output_type": "execute_result"
    }
   ],
   "source": [
    "# laoding data\n",
    "df = pd.read_csv('./data/rentals.csv')\n",
    "# geting 10 random sample from the dataframe\n",
    "df.sample(10)"
   ]
  },
  {
   "cell_type": "code",
   "execution_count": 5,
   "metadata": {
    "ExecuteTime": {
     "end_time": "2021-10-11T09:31:24.587812Z",
     "start_time": "2021-10-11T09:31:24.574818Z"
    }
   },
   "outputs": [
    {
     "data": {
      "text/plain": [
       "(8111, 9)"
      ]
     },
     "execution_count": 5,
     "metadata": {},
     "output_type": "execute_result"
    }
   ],
   "source": [
    "df.shape"
   ]
  },
  {
   "cell_type": "code",
   "execution_count": 6,
   "metadata": {
    "ExecuteTime": {
     "end_time": "2021-10-11T09:31:24.602827Z",
     "start_time": "2021-10-11T09:31:24.590821Z"
    }
   },
   "outputs": [
    {
     "data": {
      "text/plain": [
       "id                 0\n",
       "latitude           0\n",
       "longitude          0\n",
       "property_type      0\n",
       "room_type          0\n",
       "bathrooms         12\n",
       "bedrooms           4\n",
       "minimum_nights     0\n",
       "price              0\n",
       "dtype: int64"
      ]
     },
     "execution_count": 6,
     "metadata": {},
     "output_type": "execute_result"
    }
   ],
   "source": [
    "df.isna().sum()"
   ]
  },
  {
   "cell_type": "markdown",
   "metadata": {},
   "source": [
    "few observation with missing number in bathrooms and bedrooms."
   ]
  },
  {
   "cell_type": "code",
   "execution_count": 7,
   "metadata": {
    "ExecuteTime": {
     "end_time": "2021-10-11T09:31:24.911814Z",
     "start_time": "2021-10-11T09:31:24.606824Z"
    }
   },
   "outputs": [
    {
     "data": {
      "text/plain": [
       "<AxesSubplot:>"
      ]
     },
     "execution_count": 7,
     "metadata": {},
     "output_type": "execute_result"
    },
    {
     "data": {
      "image/png": "[encoded data removed]",
      "text/plain": [
       "<Figure size 1800x720 with 1 Axes>"
      ]
     },
     "metadata": {},
     "output_type": "display_data"
    }
   ],
   "source": [
    "# check for pattern of missing number\n",
    "missingno.dendrogram(df)"
   ]
  },
  {
   "cell_type": "markdown",
   "metadata": {},
   "source": [
    "Those can be dropped as the data loss is not significant."
   ]
  },
  {
   "cell_type": "code",
   "execution_count": 8,
   "metadata": {
    "ExecuteTime": {
     "end_time": "2021-10-11T09:31:24.942818Z",
     "start_time": "2021-10-11T09:31:24.914817Z"
    }
   },
   "outputs": [
    {
     "data": {
      "text/plain": [
       "id                0\n",
       "latitude          0\n",
       "longitude         0\n",
       "property_type     0\n",
       "room_type         0\n",
       "bathrooms         0\n",
       "bedrooms          0\n",
       "minimum_nights    0\n",
       "price             0\n",
       "dtype: int64"
      ]
     },
     "execution_count": 8,
     "metadata": {},
     "output_type": "execute_result"
    }
   ],
   "source": [
    "# dropping\n",
    "df.dropna(inplace=True)\n",
    "# check df \n",
    "df.isna().sum()"
   ]
  },
  {
   "cell_type": "code",
   "execution_count": 9,
   "metadata": {
    "ExecuteTime": {
     "end_time": "2021-10-11T09:31:24.958812Z",
     "start_time": "2021-10-11T09:31:24.944820Z"
    }
   },
   "outputs": [
    {
     "data": {
      "text/plain": [
       "id                  int64\n",
       "latitude          float64\n",
       "longitude         float64\n",
       "property_type      object\n",
       "room_type          object\n",
       "bathrooms         float64\n",
       "bedrooms          float64\n",
       "minimum_nights      int64\n",
       "price              object\n",
       "dtype: object"
      ]
     },
     "execution_count": 9,
     "metadata": {},
     "output_type": "execute_result"
    }
   ],
   "source": [
    "df.dtypes"
   ]
  },
  {
   "cell_type": "markdown",
   "metadata": {},
   "source": [
    "Observation \n",
    "\n",
    "- cleaning of 'price' is needed.\n",
    "- unique identifier can be dropped."
   ]
  },
  {
   "cell_type": "markdown",
   "metadata": {},
   "source": [
    "### cleaning `price`"
   ]
  },
  {
   "cell_type": "code",
   "execution_count": 10,
   "metadata": {
    "ExecuteTime": {
     "end_time": "2021-10-11T09:31:24.990817Z",
     "start_time": "2021-10-11T09:31:24.959815Z"
    }
   },
   "outputs": [],
   "source": [
    "df['price'] = df['price'].apply(lambda x: float(re.sub(r'\\,|\\$', '', x)))"
   ]
  },
  {
   "cell_type": "code",
   "execution_count": 11,
   "metadata": {
    "ExecuteTime": {
     "end_time": "2021-10-11T09:31:25.006814Z",
     "start_time": "2021-10-11T09:31:24.992818Z"
    }
   },
   "outputs": [],
   "source": [
    "df.drop(columns=['id'], inplace=True)"
   ]
  },
  {
   "cell_type": "markdown",
   "metadata": {},
   "source": [
    "## zipcode"
   ]
  },
  {
   "cell_type": "markdown",
   "metadata": {},
   "source": [
    "I used a nifty package to get zipcodes from latitude and longitude. "
   ]
  },
  {
   "cell_type": "code",
   "execution_count": 12,
   "metadata": {
    "ExecuteTime": {
     "end_time": "2021-10-11T09:32:13.264269Z",
     "start_time": "2021-10-11T09:31:25.008821Z"
    }
   },
   "outputs": [],
   "source": [
    "from uszipcode import Zipcode, SearchEngine\n",
    "search = SearchEngine(simple_zipcode=True)\n",
    "zipcode_list = []\n",
    "for cor in zip(df.latitude, df.longitude):\n",
    "    result = search.by_coordinates(cor[0], cor[1],returns=1)\n",
    "    zipcode_list.append(result[0].zipcode)\n",
    "df['zipcode'] = zipcode_list"
   ]
  },
  {
   "cell_type": "code",
   "execution_count": 13,
   "metadata": {
    "ExecuteTime": {
     "end_time": "2021-10-11T09:32:13.310808Z",
     "start_time": "2021-10-11T09:32:13.266274Z"
    }
   },
   "outputs": [
    {
     "data": {
      "text/html": [
       "<div>\n",
       "<style scoped>\n",
       "    .dataframe tbody tr th:only-of-type {\n",
       "        vertical-align: middle;\n",
       "    }\n",
       "\n",
       "    .dataframe tbody tr th {\n",
       "        vertical-align: top;\n",
       "    }\n",
       "\n",
       "    .dataframe thead th {\n",
       "        text-align: right;\n",
       "    }\n",
       "</style>\n",
       "<table border=\"1\" class=\"dataframe\">\n",
       "  <thead>\n",
       "    <tr style=\"text-align: right;\">\n",
       "      <th></th>\n",
       "      <th>latitude</th>\n",
       "      <th>longitude</th>\n",
       "      <th>property_type</th>\n",
       "      <th>room_type</th>\n",
       "      <th>bathrooms</th>\n",
       "      <th>bedrooms</th>\n",
       "      <th>minimum_nights</th>\n",
       "      <th>price</th>\n",
       "      <th>zipcode</th>\n",
       "    </tr>\n",
       "  </thead>\n",
       "  <tbody>\n",
       "    <tr>\n",
       "      <th>0</th>\n",
       "      <td>37.76931</td>\n",
       "      <td>-122.43386</td>\n",
       "      <td>Apartment</td>\n",
       "      <td>Entire home/apt</td>\n",
       "      <td>1.0</td>\n",
       "      <td>1.0</td>\n",
       "      <td>1</td>\n",
       "      <td>170.0</td>\n",
       "      <td>94117</td>\n",
       "    </tr>\n",
       "    <tr>\n",
       "      <th>1</th>\n",
       "      <td>37.75402</td>\n",
       "      <td>-122.45805</td>\n",
       "      <td>House</td>\n",
       "      <td>Private room</td>\n",
       "      <td>1.0</td>\n",
       "      <td>1.0</td>\n",
       "      <td>1</td>\n",
       "      <td>99.0</td>\n",
       "      <td>94131</td>\n",
       "    </tr>\n",
       "    <tr>\n",
       "      <th>2</th>\n",
       "      <td>37.74511</td>\n",
       "      <td>-122.42102</td>\n",
       "      <td>Apartment</td>\n",
       "      <td>Entire home/apt</td>\n",
       "      <td>1.0</td>\n",
       "      <td>2.0</td>\n",
       "      <td>30</td>\n",
       "      <td>235.0</td>\n",
       "      <td>94110</td>\n",
       "    </tr>\n",
       "    <tr>\n",
       "      <th>3</th>\n",
       "      <td>37.76669</td>\n",
       "      <td>-122.45250</td>\n",
       "      <td>Apartment</td>\n",
       "      <td>Private room</td>\n",
       "      <td>4.0</td>\n",
       "      <td>1.0</td>\n",
       "      <td>32</td>\n",
       "      <td>65.0</td>\n",
       "      <td>94117</td>\n",
       "    </tr>\n",
       "    <tr>\n",
       "      <th>4</th>\n",
       "      <td>37.76487</td>\n",
       "      <td>-122.45183</td>\n",
       "      <td>Apartment</td>\n",
       "      <td>Private room</td>\n",
       "      <td>4.0</td>\n",
       "      <td>1.0</td>\n",
       "      <td>32</td>\n",
       "      <td>65.0</td>\n",
       "      <td>94114</td>\n",
       "    </tr>\n",
       "    <tr>\n",
       "      <th>...</th>\n",
       "      <td>...</td>\n",
       "      <td>...</td>\n",
       "      <td>...</td>\n",
       "      <td>...</td>\n",
       "      <td>...</td>\n",
       "      <td>...</td>\n",
       "      <td>...</td>\n",
       "      <td>...</td>\n",
       "      <td>...</td>\n",
       "    </tr>\n",
       "    <tr>\n",
       "      <th>8106</th>\n",
       "      <td>37.74010</td>\n",
       "      <td>-122.41196</td>\n",
       "      <td>House</td>\n",
       "      <td>Private room</td>\n",
       "      <td>2.0</td>\n",
       "      <td>3.0</td>\n",
       "      <td>30</td>\n",
       "      <td>699.0</td>\n",
       "      <td>94110</td>\n",
       "    </tr>\n",
       "    <tr>\n",
       "      <th>8107</th>\n",
       "      <td>37.77799</td>\n",
       "      <td>-122.42159</td>\n",
       "      <td>Condominium</td>\n",
       "      <td>Entire home/apt</td>\n",
       "      <td>1.0</td>\n",
       "      <td>1.0</td>\n",
       "      <td>1</td>\n",
       "      <td>200.0</td>\n",
       "      <td>94102</td>\n",
       "    </tr>\n",
       "    <tr>\n",
       "      <th>8108</th>\n",
       "      <td>37.73410</td>\n",
       "      <td>-122.38917</td>\n",
       "      <td>Hut</td>\n",
       "      <td>Private room</td>\n",
       "      <td>2.0</td>\n",
       "      <td>1.0</td>\n",
       "      <td>30</td>\n",
       "      <td>69.0</td>\n",
       "      <td>94124</td>\n",
       "    </tr>\n",
       "    <tr>\n",
       "      <th>8109</th>\n",
       "      <td>37.78144</td>\n",
       "      <td>-122.41207</td>\n",
       "      <td>Apartment</td>\n",
       "      <td>Entire home/apt</td>\n",
       "      <td>1.0</td>\n",
       "      <td>1.0</td>\n",
       "      <td>30</td>\n",
       "      <td>187.0</td>\n",
       "      <td>94103</td>\n",
       "    </tr>\n",
       "    <tr>\n",
       "      <th>8110</th>\n",
       "      <td>37.70707</td>\n",
       "      <td>-122.44812</td>\n",
       "      <td>House</td>\n",
       "      <td>Private room</td>\n",
       "      <td>1.0</td>\n",
       "      <td>2.0</td>\n",
       "      <td>1</td>\n",
       "      <td>200.0</td>\n",
       "      <td>94112</td>\n",
       "    </tr>\n",
       "  </tbody>\n",
       "</table>\n",
       "<p>8095 rows × 9 columns</p>\n",
       "</div>"
      ],
      "text/plain": [
       "      latitude  longitude property_type        room_type  bathrooms  bedrooms  \\\n",
       "0     37.76931 -122.43386     Apartment  Entire home/apt        1.0       1.0   \n",
       "1     37.75402 -122.45805         House     Private room        1.0       1.0   \n",
       "2     37.74511 -122.42102     Apartment  Entire home/apt        1.0       2.0   \n",
       "3     37.76669 -122.45250     Apartment     Private room        4.0       1.0   \n",
       "4     37.76487 -122.45183     Apartment     Private room        4.0       1.0   \n",
       "...        ...        ...           ...              ...        ...       ...   \n",
       "8106  37.74010 -122.41196         House     Private room        2.0       3.0   \n",
       "8107  37.77799 -122.42159   Condominium  Entire home/apt        1.0       1.0   \n",
       "8108  37.73410 -122.38917           Hut     Private room        2.0       1.0   \n",
       "8109  37.78144 -122.41207     Apartment  Entire home/apt        1.0       1.0   \n",
       "8110  37.70707 -122.44812         House     Private room        1.0       2.0   \n",
       "\n",
       "      minimum_nights  price zipcode  \n",
       "0                  1  170.0   94117  \n",
       "1                  1   99.0   94131  \n",
       "2                 30  235.0   94110  \n",
       "3                 32   65.0   94117  \n",
       "4                 32   65.0   94114  \n",
       "...              ...    ...     ...  \n",
       "8106              30  699.0   94110  \n",
       "8107               1  200.0   94102  \n",
       "8108              30   69.0   94124  \n",
       "8109              30  187.0   94103  \n",
       "8110               1  200.0   94112  \n",
       "\n",
       "[8095 rows x 9 columns]"
      ]
     },
     "execution_count": 13,
     "metadata": {},
     "output_type": "execute_result"
    }
   ],
   "source": [
    "df['zipcode'] = df['zipcode'].astype('str')\n",
    "df"
   ]
  },
  {
   "cell_type": "markdown",
   "metadata": {},
   "source": [
    "## statistics for inspection"
   ]
  },
  {
   "cell_type": "code",
   "execution_count": 14,
   "metadata": {
    "ExecuteTime": {
     "end_time": "2021-10-11T09:32:13.373805Z",
     "start_time": "2021-10-11T09:32:13.312806Z"
    }
   },
   "outputs": [
    {
     "data": {
      "text/html": [
       "<div>\n",
       "<style scoped>\n",
       "    .dataframe tbody tr th:only-of-type {\n",
       "        vertical-align: middle;\n",
       "    }\n",
       "\n",
       "    .dataframe tbody tr th {\n",
       "        vertical-align: top;\n",
       "    }\n",
       "\n",
       "    .dataframe thead th {\n",
       "        text-align: right;\n",
       "    }\n",
       "</style>\n",
       "<table border=\"1\" class=\"dataframe\">\n",
       "  <thead>\n",
       "    <tr style=\"text-align: right;\">\n",
       "      <th></th>\n",
       "      <th>count</th>\n",
       "      <th>unique</th>\n",
       "      <th>top</th>\n",
       "      <th>freq</th>\n",
       "      <th>mean</th>\n",
       "      <th>std</th>\n",
       "      <th>min</th>\n",
       "      <th>25%</th>\n",
       "      <th>50%</th>\n",
       "      <th>75%</th>\n",
       "      <th>max</th>\n",
       "      <th>dtype</th>\n",
       "      <th>nulls</th>\n",
       "    </tr>\n",
       "  </thead>\n",
       "  <tbody>\n",
       "    <tr>\n",
       "      <th>latitude</th>\n",
       "      <td>8095.0</td>\n",
       "      <td></td>\n",
       "      <td></td>\n",
       "      <td></td>\n",
       "      <td>37.77</td>\n",
       "      <td>0.02</td>\n",
       "      <td>37.7</td>\n",
       "      <td>37.75</td>\n",
       "      <td>37.77</td>\n",
       "      <td>37.79</td>\n",
       "      <td>37.83</td>\n",
       "      <td>float64</td>\n",
       "      <td>0</td>\n",
       "    </tr>\n",
       "    <tr>\n",
       "      <th>longitude</th>\n",
       "      <td>8095.0</td>\n",
       "      <td></td>\n",
       "      <td></td>\n",
       "      <td></td>\n",
       "      <td>-122.43</td>\n",
       "      <td>0.03</td>\n",
       "      <td>-122.51</td>\n",
       "      <td>-122.44</td>\n",
       "      <td>-122.42</td>\n",
       "      <td>-122.41</td>\n",
       "      <td>-122.37</td>\n",
       "      <td>float64</td>\n",
       "      <td>0</td>\n",
       "    </tr>\n",
       "    <tr>\n",
       "      <th>property_type</th>\n",
       "      <td>8095.0</td>\n",
       "      <td>26</td>\n",
       "      <td>Apartment</td>\n",
       "      <td>3234</td>\n",
       "      <td></td>\n",
       "      <td></td>\n",
       "      <td></td>\n",
       "      <td></td>\n",
       "      <td></td>\n",
       "      <td></td>\n",
       "      <td></td>\n",
       "      <td>object</td>\n",
       "      <td>0</td>\n",
       "    </tr>\n",
       "    <tr>\n",
       "      <th>room_type</th>\n",
       "      <td>8095.0</td>\n",
       "      <td>4</td>\n",
       "      <td>Entire home/apt</td>\n",
       "      <td>4767</td>\n",
       "      <td></td>\n",
       "      <td></td>\n",
       "      <td></td>\n",
       "      <td></td>\n",
       "      <td></td>\n",
       "      <td></td>\n",
       "      <td></td>\n",
       "      <td>object</td>\n",
       "      <td>0</td>\n",
       "    </tr>\n",
       "    <tr>\n",
       "      <th>bathrooms</th>\n",
       "      <td>8095.0</td>\n",
       "      <td></td>\n",
       "      <td></td>\n",
       "      <td></td>\n",
       "      <td>1.4</td>\n",
       "      <td>0.92</td>\n",
       "      <td>0.0</td>\n",
       "      <td>1.0</td>\n",
       "      <td>1.0</td>\n",
       "      <td>1.5</td>\n",
       "      <td>14.0</td>\n",
       "      <td>float64</td>\n",
       "      <td>0</td>\n",
       "    </tr>\n",
       "    <tr>\n",
       "      <th>bedrooms</th>\n",
       "      <td>8095.0</td>\n",
       "      <td></td>\n",
       "      <td></td>\n",
       "      <td></td>\n",
       "      <td>1.35</td>\n",
       "      <td>0.93</td>\n",
       "      <td>0.0</td>\n",
       "      <td>1.0</td>\n",
       "      <td>1.0</td>\n",
       "      <td>2.0</td>\n",
       "      <td>14.0</td>\n",
       "      <td>float64</td>\n",
       "      <td>0</td>\n",
       "    </tr>\n",
       "    <tr>\n",
       "      <th>minimum_nights</th>\n",
       "      <td>8095.0</td>\n",
       "      <td></td>\n",
       "      <td></td>\n",
       "      <td></td>\n",
       "      <td>12369.63</td>\n",
       "      <td>1111454.02</td>\n",
       "      <td>1.0</td>\n",
       "      <td>2.0</td>\n",
       "      <td>4.0</td>\n",
       "      <td>30.0</td>\n",
       "      <td>100000000.0</td>\n",
       "      <td>int64</td>\n",
       "      <td>0</td>\n",
       "    </tr>\n",
       "    <tr>\n",
       "      <th>price</th>\n",
       "      <td>8095.0</td>\n",
       "      <td></td>\n",
       "      <td></td>\n",
       "      <td></td>\n",
       "      <td>225.65</td>\n",
       "      <td>412.58</td>\n",
       "      <td>0.0</td>\n",
       "      <td>100.0</td>\n",
       "      <td>150.0</td>\n",
       "      <td>240.0</td>\n",
       "      <td>10000.0</td>\n",
       "      <td>float64</td>\n",
       "      <td>0</td>\n",
       "    </tr>\n",
       "    <tr>\n",
       "      <th>zipcode</th>\n",
       "      <td>8095.0</td>\n",
       "      <td>26</td>\n",
       "      <td>94110</td>\n",
       "      <td>1150</td>\n",
       "      <td></td>\n",
       "      <td></td>\n",
       "      <td></td>\n",
       "      <td></td>\n",
       "      <td></td>\n",
       "      <td></td>\n",
       "      <td></td>\n",
       "      <td>object</td>\n",
       "      <td>0</td>\n",
       "    </tr>\n",
       "  </tbody>\n",
       "</table>\n",
       "</div>"
      ],
      "text/plain": [
       "                 count unique              top  freq      mean         std  \\\n",
       "latitude        8095.0                                   37.77        0.02   \n",
       "longitude       8095.0                                 -122.43        0.03   \n",
       "property_type   8095.0     26        Apartment  3234                         \n",
       "room_type       8095.0      4  Entire home/apt  4767                         \n",
       "bathrooms       8095.0                                     1.4        0.92   \n",
       "bedrooms        8095.0                                    1.35        0.93   \n",
       "minimum_nights  8095.0                                12369.63  1111454.02   \n",
       "price           8095.0                                  225.65      412.58   \n",
       "zipcode         8095.0     26            94110  1150                         \n",
       "\n",
       "                   min     25%     50%     75%          max    dtype  nulls  \n",
       "latitude          37.7   37.75   37.77   37.79        37.83  float64      0  \n",
       "longitude      -122.51 -122.44 -122.42 -122.41      -122.37  float64      0  \n",
       "property_type                                                 object      0  \n",
       "room_type                                                     object      0  \n",
       "bathrooms          0.0     1.0     1.0     1.5         14.0  float64      0  \n",
       "bedrooms           0.0     1.0     1.0     2.0         14.0  float64      0  \n",
       "minimum_nights     1.0     2.0     4.0    30.0  100000000.0    int64      0  \n",
       "price              0.0   100.0   150.0   240.0      10000.0  float64      0  \n",
       "zipcode                                                       object      0  "
      ]
     },
     "execution_count": 14,
     "metadata": {},
     "output_type": "execute_result"
    }
   ],
   "source": [
    "describe_dataframe(df)"
   ]
  },
  {
   "cell_type": "markdown",
   "metadata": {},
   "source": [
    "## Visualize on map"
   ]
  },
  {
   "cell_type": "markdown",
   "metadata": {},
   "source": [
    "### Average price by zipcodes"
   ]
  },
  {
   "cell_type": "code",
   "execution_count": 21,
   "metadata": {
    "ExecuteTime": {
     "end_time": "2021-10-11T09:41:42.102597Z",
     "start_time": "2021-10-11T09:41:42.095602Z"
    }
   },
   "outputs": [],
   "source": [
    "def average_price_by_zipcode_interactive(df, mapbox_style=\"stamen-toner\"):\n",
    "    \"\"\"Return a map with box based on zipcode for average house prices.\n",
    "    \n",
    "    Parameters:\n",
    "    ===========\n",
    "    mapbox_style = str; options are following:\n",
    "        > \"white-bg\" yields an empty white canvas which results in no external HTTP requests\n",
    "\n",
    "        > \"carto-positron\", \"carto-darkmatter\", \"stamen-terrain\",\n",
    "          \"stamen-toner\" or \"stamen-watercolor\" yield maps composed of raster tiles \n",
    "          from various public tile servers which do not require signups or access tokens\n",
    "\n",
    "        > \"open-street-map\" does work\n",
    "    _________________________________________________________________________\n",
    "    Uses geodata from:\n",
    "    https://github.com/OpenDataDE/State-zip-code-GeoJSON/blob/master/ca_california_zip_codes_geo.min.json\n",
    "    \"\"\"\n",
    "    zipcode_data = json.load(\n",
    "        open('./data/ca_california_zip_codes_geo.min.json', 'r'))\n",
    "    # extract zipcode for id matching\n",
    "    for feature in zipcode_data['features']:\n",
    "        feature['id'] = feature['properties']['ZCTA5CE10']\n",
    "\n",
    "    fig = px.choropleth_mapbox(\n",
    "        data_frame=df,\n",
    "        locations='zipcode',\n",
    "        geojson=zipcode_data,\n",
    "        color='price',\n",
    "        mapbox_style=mapbox_style,\n",
    "        zoom=10,\n",
    "        height=700,\n",
    "        color_continuous_scale=['green', 'blue', 'red', 'gold'],\n",
    "        title='Zipcode by Average Price',\n",
    "        labels={'price': 'Average Price'},\n",
    "        opacity=.7,\n",
    "        center={\n",
    "            'lat': df.latitude.mode()[0],\n",
    "            'lon': df.longitude.mode()[0]\n",
    "        })\n",
    "    fig.update_geos(fitbounds='locations', visible=True)\n",
    "    fig.update_layout(margin={\"r\": 0, \"l\": 0, \"b\": 0})\n",
    "    fig.show()\n",
    "    pass"
   ]
  },
  {
   "cell_type": "code",
   "execution_count": 2,
   "metadata": {
    "ExecuteTime": {
     "end_time": "2021-10-11T09:43:24.672225Z",
     "start_time": "2021-10-11T09:41:44.744104Z"
    }
   },
   "outputs": [],
   "source": [
    "average_price_by_zipcode_interactive(\n",
    "    df.groupby(by='zipcode').mean().reset_index())"
   ]
  },
  {
   "cell_type": "markdown",
   "metadata": {},
   "source": [
    "### Location in map"
   ]
  },
  {
   "cell_type": "code",
   "execution_count": 17,
   "metadata": {
    "ExecuteTime": {
     "end_time": "2021-10-11T09:33:52.022009Z",
     "start_time": "2021-10-11T09:33:52.009010Z"
    }
   },
   "outputs": [],
   "source": [
    "def get_location_interactive(df, mapbox_style=\"open-street-map\"):\n",
    "    \"\"\"Return a map with markers for houses based on lat and long.\n",
    "    \n",
    "    Parameters:\n",
    "    ===========\n",
    "    mapbox_style = str; options are following:\n",
    "        > \"white-bg\" yields an empty white canvas which results in no external HTTP requests\n",
    "\n",
    "        > \"carto-positron\", \"carto-darkmatter\", \"stamen-terrain\",\n",
    "          \"stamen-toner\" or \"stamen-watercolor\" yield maps composed of raster tiles \n",
    "          from various public tile servers which do not require signups or access tokens\n",
    "\n",
    "        > \"open-street-map\" does work 'latitude', 'longitude'\n",
    "    \"\"\"\n",
    "    fig = px.scatter_mapbox(\n",
    "        df,\n",
    "        lat=df.latitude,\n",
    "        lon=df.longitude,\n",
    "        color='price',\n",
    "        color_continuous_scale=[\"green\", 'blue', 'red', 'gold'],\n",
    "        zoom=11.5,\n",
    "        range_color=[0, df['price'].quantile(0.95)], # to negate outliers\n",
    "        height=700,\n",
    "        title='House location',\n",
    "        opacity=.5,\n",
    "        center={\n",
    "            'lat': df.latitude.mode()[0],\n",
    "            'lon': df.longitude.mode()[0]\n",
    "        })\n",
    "    fig.update_layout(mapbox_style=mapbox_style)\n",
    "    fig.update_layout(margin={\"r\": 0, \"l\": 0, \"b\": 0})\n",
    "    fig.show()\n",
    "    pass"
   ]
  },
  {
   "cell_type": "code",
   "execution_count": 1,
   "metadata": {
    "ExecuteTime": {
     "end_time": "2021-10-11T09:33:52.251019Z",
     "start_time": "2021-10-11T09:33:52.025014Z"
    }
   },
   "outputs": [],
   "source": [
    "get_location_interactive(df)"
   ]
  },
  {
   "cell_type": "markdown",
   "metadata": {},
   "source": [
    "for a static output use this instead of showing the object. You can also save this as image by tinkering the output type.\n",
    "\n",
    "```python\n",
    "import plotly.io as plyIo\n",
    "img_bytes = fig.to_image(format=\"png\", width=1200, height=700, scale=1)\n",
    "from IPython.display import Image\n",
    "display(Image(img_bytes))\n",
    "```"
   ]
  },
  {
   "cell_type": "markdown",
   "metadata": {},
   "source": [
    "# Further analysis \n",
    "This is a part of a analysis of rental price prediction. Which can be found [here](https://github.com/tamjid-ahsan/House-rental-price-prediction)."
   ]
  }
 ],
 "metadata": {
  "interpreter": {
   "hash": "b4e8ab9d4ca465dbd7ea274a3f12a39dc6106bdb0e764a576b270a8e7f6618ad"
  },
  "kernelspec": {
   "display_name": "Python 3",
   "language": "python",
   "name": "python3"
  },
  "language_info": {
   "codemirror_mode": {
    "name": "ipython",
    "version": 3
   },
   "file_extension": ".py",
   "mimetype": "text/x-python",
   "name": "python",
   "nbconvert_exporter": "python",
   "pygments_lexer": "ipython3",
   "version": "3.8.5"
  },
  "toc": {
   "base_numbering": 1,
   "nav_menu": {},
   "number_sections": true,
   "sideBar": true,
   "skip_h1_title": false,
   "title_cell": "Table of Contents",
   "title_sidebar": "Contents",
   "toc_cell": false,
   "toc_position": {
    "height": "calc(100% - 180px)",
    "left": "10px",
    "top": "150px",
    "width": "383.976px"
   },
   "toc_section_display": true,
   "toc_window_display": false
  }
 },
 "nbformat": 4,
 "nbformat_minor": 4
}
